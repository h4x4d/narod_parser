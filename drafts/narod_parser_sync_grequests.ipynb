{
 "cells": [
  {
   "cell_type": "markdown",
   "id": "f3056d55-2764-48b4-b553-67ea234393ac",
   "metadata": {},
   "source": [
    "## **Imports**"
   ]
  },
  {
   "cell_type": "code",
   "execution_count": 1,
   "outputs": [
    {
     "data": {
      "text/plain": "True"
     },
     "execution_count": 1,
     "metadata": {},
     "output_type": "execute_result"
    }
   ],
   "source": [
    "try:\n",
    "    import gevent\n",
    "    from gevent import monkey as curious_george\n",
    "    from gevent.pool import Pool\n",
    "except ImportError:\n",
    "    raise RuntimeError('Gevent is required for grequests.')\n",
    "\n",
    "# Monkey-patch.\n",
    "curious_george.patch_all(thread=False, select=False)"
   ],
   "metadata": {
    "collapsed": false,
    "ExecuteTime": {
     "end_time": "2023-12-05T16:47:09.654620Z",
     "start_time": "2023-12-05T16:47:09.086379Z"
    }
   },
   "id": "411a208f57abe67e"
  },
  {
   "cell_type": "code",
   "execution_count": 2,
   "id": "af4e1135-916d-4722-9bd0-b1ddc477001e",
   "metadata": {
    "ExecuteTime": {
     "end_time": "2023-12-05T16:47:10.045702Z",
     "start_time": "2023-12-05T16:47:09.642162Z"
    }
   },
   "outputs": [],
   "source": [
    "# web\n",
    "import requests\n",
    "import grequests\n",
    "import fake_useragent\n",
    "\n",
    "# db\n",
    "import aiosqlite\n",
    "\n",
    "\n",
    "# analysis \n",
    "from bs4 import BeautifulSoup\n",
    "import re\n",
    "from urllib.parse import urljoin\n",
    "\n",
    "# system\n",
    "import os\n",
    "import sys\n",
    "import shutil"
   ]
  },
  {
   "cell_type": "markdown",
   "id": "11cd9798-09b7-4408-a7be-f4ee2bc90fe5",
   "metadata": {},
   "source": [
    "## **Database**"
   ]
  },
  {
   "cell_type": "code",
   "execution_count": 3,
   "outputs": [],
   "source": [
    "DATABASE_NAME = 'sites.db'"
   ],
   "metadata": {
    "collapsed": false,
    "ExecuteTime": {
     "end_time": "2023-12-05T16:47:10.046231Z",
     "start_time": "2023-12-05T16:47:09.893125Z"
    }
   },
   "id": "d6d740fc3001f26b"
  },
  {
   "cell_type": "code",
   "execution_count": 4,
   "outputs": [],
   "source": [
    "async def fill_database(name=DATABASE_NAME, rewrite=True):\n",
    "    if rewrite and os.path.isfile(name):\n",
    "        os.remove(name)\n",
    "    async with aiosqlite.connect(DATABASE_NAME) as db: \n",
    "        await db.execute('''\n",
    "        CREATE TABLE pages (\n",
    "          id INTEGER PRIMARY KEY AUTOINCREMENT,\n",
    "          url TEXT,\n",
    "          page_name TEXT,\n",
    "          \n",
    "          pure_html TEXT,\n",
    "          plain_text TEXT\n",
    "        )\n",
    "        ''')\n",
    "        \n",
    "        await db.execute('''\n",
    "        CREATE TABLE children (\n",
    "          id INTEGER PRIMARY KEY AUTOINCREMENT,\n",
    "          root_id INTEGER,\n",
    "          child_id INTEGER,\n",
    "          FOREIGN KEY (root_id)  REFERENCES pages(id),\n",
    "          FOREIGN KEY (child_id)  REFERENCES pages(id)\n",
    "        )\n",
    "        ''')\n",
    "        \n",
    "        await db.execute('''\n",
    "        CREATE TABLE sites (\n",
    "          id INTEGER PRIMARY KEY AUTOINCREMENT,\n",
    "          url TEXT,\n",
    "          site_name TEXT,\n",
    "          root_id INTEGER,\n",
    "          FOREIGN KEY (root_id)  REFERENCES pages(id)\n",
    "        )\n",
    "        ''')\n",
    "        \n",
    "        for page in pages:\n",
    "            await db.execute('INSERT INTO pages VALUES(?, ?, ?, ?, ?)', page)\n",
    "        for site in sites:\n",
    "            await db.execute('INSERT INTO sites VALUES(?, ?, ?, ?)', site)\n",
    "        for rel in children:\n",
    "            await db.execute('INSERT INTO childern VALUES(?, ?, ?)', rel)\n",
    "            \n",
    "        await db.commit()\n",
    "        "
   ],
   "metadata": {
    "collapsed": false,
    "ExecuteTime": {
     "end_time": "2023-12-05T16:47:10.046530Z",
     "start_time": "2023-12-05T16:47:09.902983Z"
    }
   },
   "id": "2dcbc706ef9e5cbd"
  },
  {
   "cell_type": "markdown",
   "id": "76f556b4c58834b8",
   "metadata": {
    "collapsed": false
   },
   "source": [
    "## **Get site data**"
   ]
  },
  {
   "cell_type": "code",
   "execution_count": 5,
   "outputs": [],
   "source": [
    "def exception_handler(request, exception):\n",
    "    print(\"Request failed\", request.url, exception)"
   ],
   "metadata": {
    "collapsed": false,
    "ExecuteTime": {
     "end_time": "2023-12-05T16:47:10.046774Z",
     "start_time": "2023-12-05T16:47:09.913299Z"
    }
   },
   "id": "1b7bbf0336a8d38d"
  },
  {
   "cell_type": "code",
   "execution_count": 6,
   "outputs": [],
   "source": [
    "pages = []\n",
    "children = []\n",
    "sites = []"
   ],
   "metadata": {
    "collapsed": false,
    "ExecuteTime": {
     "end_time": "2023-12-05T16:47:10.047003Z",
     "start_time": "2023-12-05T16:47:09.920717Z"
    }
   },
   "id": "7b09ee0bf41b54de"
  },
  {
   "cell_type": "code",
   "execution_count": 6,
   "outputs": [],
   "source": [],
   "metadata": {
    "collapsed": false,
    "ExecuteTime": {
     "end_time": "2023-12-05T16:47:10.047394Z",
     "start_time": "2023-12-05T16:47:09.928057Z"
    }
   },
   "id": "26b986ac4ed1b950"
  },
  {
   "cell_type": "code",
   "execution_count": 7,
   "outputs": [],
   "source": [
    "headers_ = {\n",
    "    'Accept-Language': 'ru,en;q=0.9',\n",
    "    'Cache-Control': 'max-age=0',\n",
    "    'Connection': 'keep-alive',\n",
    "}\n",
    "ua = fake_useragent.UserAgent()\n",
    "\n",
    "def get_headers():\n",
    "    headers = headers_.copy()\n",
    "    headers['User-Agent'] = ua.random\n",
    "    return headers"
   ],
   "metadata": {
    "collapsed": false,
    "ExecuteTime": {
     "end_time": "2023-12-05T16:47:10.047826Z",
     "start_time": "2023-12-05T16:47:09.931496Z"
    }
   },
   "id": "4230e049cd90ce"
  },
  {
   "cell_type": "code",
   "execution_count": 8,
   "outputs": [],
   "source": [
    "def make_links_absolute(html, url):\n",
    "    absolutize = lambda m: ' src=\"' + urljoin(url, m.group(1)) + '\"'\n",
    "    html = re.sub(r' src=\"([^\"]+)\"', absolutize, html)\n",
    "    absolutize2 = lambda m: ' href=\"' + urljoin(url, m.group(1)) + '\"'\n",
    "    html = re.sub(r' href=\"([^\"]+)\"', absolutize2, html)\n",
    "    return html"
   ],
   "metadata": {
    "collapsed": false,
    "ExecuteTime": {
     "end_time": "2023-12-05T16:47:10.048161Z",
     "start_time": "2023-12-05T16:47:09.941214Z"
    }
   },
   "id": "741ffea04e5becae"
  },
  {
   "cell_type": "code",
   "execution_count": 9,
   "outputs": [],
   "source": [
    "def get_plain_text(soup):\n",
    "    for script in soup([\"script\", \"style\"]):\n",
    "      script.extract()\n",
    "\n",
    "    text = soup.get_text()\n",
    "    \n",
    "    lines = (line.strip() for line in text.splitlines())\n",
    "    chunks = (phrase.strip() for line in lines for phrase in line.split(\"  \"))\n",
    "    return '\\n'.join(chunk for chunk in chunks if chunk)"
   ],
   "metadata": {
    "collapsed": false,
    "ExecuteTime": {
     "end_time": "2023-12-05T16:47:10.048463Z",
     "start_time": "2023-12-05T16:47:09.947732Z"
    }
   },
   "id": "2f79248f10dbe085"
  },
  {
   "cell_type": "code",
   "execution_count": 10,
   "outputs": [],
   "source": [
    "def get_links(soup):\n",
    "    for script in soup([\"script\", \"style\"]):\n",
    "      script.extract()\n",
    "\n",
    "    text = soup.get_text()\n",
    "    \n",
    "    lines = (line.strip() for line in text.splitlines())\n",
    "    chunks = (phrase.strip() for line in lines for phrase in line.split(\"  \"))\n",
    "    return '\\n'.join(chunk for chunk in chunks if chunk)"
   ],
   "metadata": {
    "collapsed": false,
    "ExecuteTime": {
     "end_time": "2023-12-05T16:47:10.048873Z",
     "start_time": "2023-12-05T16:47:09.954879Z"
    }
   },
   "id": "68ca34456f8ac6d4"
  },
  {
   "cell_type": "code",
   "execution_count": 11,
   "outputs": [],
   "source": [
    "async def process_page(response: requests.models.Response, root=0):\n",
    "    url = response.url\n",
    "    text = response.text\n",
    "    text = make_links_absolute(text, url)\n",
    "    text = text[:text.rfind('<!-- copyright (t2) -->')]\n",
    "    \n",
    "    soup = BeautifulSoup(text, features=\"html.parser\")\n",
    "    plain_text = get_plain_text(soup)\n",
    "    title = soup.title.string if soup.title else \"\"\n",
    "    \n",
    "    index = len(pages) + 1\n",
    "    pages.append((index, url, str(title), text, plain_text))\n",
    "    \n",
    "    if root > 0:\n",
    "        ch_i = len(children) + 1\n",
    "        children.append((ch_i, root, index))\n",
    "    \n",
    "    site = url[url.find('://') + 3:]\n",
    "    site = site[:site.find('/')]\n",
    "    rs = []\n",
    "    for link in soup.findAll('a'):\n",
    "        link = link.get('href')\n",
    "        if link and site in link and link.startswith('http'):\n",
    "            rs.append(grequests.get(link, headers=get_headers()))\n",
    "            \n",
    "    for r in grequests.imap(rs, size=4, exception_handler=exception_handler):\n",
    "        await process_page(r, index)\n",
    "    return index"
   ],
   "metadata": {
    "collapsed": false,
    "ExecuteTime": {
     "end_time": "2023-12-05T16:47:10.049279Z",
     "start_time": "2023-12-05T16:47:09.966007Z"
    }
   },
   "id": "e1d7e5264e512bc6"
  },
  {
   "cell_type": "markdown",
   "source": [],
   "metadata": {
    "collapsed": false
   },
   "id": "5243ca56ddfa5d21"
  },
  {
   "cell_type": "code",
   "execution_count": 12,
   "outputs": [],
   "source": [
    "async def process_site(response: requests.models.Response):\n",
    "    print(response.url)\n",
    "    root = await process_page(response)\n",
    "    index = len(sites) + 1\n",
    "    print(index)\n",
    "    sites.append((index, response.url, pages[root - 1][2], root))\n",
    "            "
   ],
   "metadata": {
    "collapsed": false,
    "ExecuteTime": {
     "end_time": "2023-12-05T16:47:10.049573Z",
     "start_time": "2023-12-05T16:47:09.970051Z"
    }
   },
   "id": "2feffea2be1f7049"
  },
  {
   "cell_type": "code",
   "execution_count": 13,
   "outputs": [],
   "source": [
    "async def get_sites(sites):\n",
    "    rs = [grequests.get(u, headers=get_headers()) for u in sites]\n",
    "    \n",
    "    for r in grequests.imap(rs, size=4, exception_handler=exception_handler):\n",
    "        await process_site(r)\n",
    "    \n",
    "    await fill_database()"
   ],
   "metadata": {
    "collapsed": false,
    "ExecuteTime": {
     "end_time": "2023-12-05T16:47:10.049758Z",
     "start_time": "2023-12-05T16:47:09.983187Z"
    }
   },
   "id": "9c605efea103ff21"
  },
  {
   "cell_type": "code",
   "execution_count": 14,
   "id": "97dd6d8cb7b683d0",
   "metadata": {
    "collapsed": false,
    "ExecuteTime": {
     "end_time": "2023-12-05T16:47:10.049949Z",
     "start_time": "2023-12-05T16:47:09.989022Z"
    }
   },
   "outputs": [],
   "source": [
    "async def main():\n",
    "    site_names = [i.strip() for i in open('Narod.txt')]\n",
    "    print(site_names)\n",
    "    await get_sites(site_names)"
   ]
  },
  {
   "cell_type": "code",
   "execution_count": null,
   "outputs": [
    {
     "name": "stdout",
     "output_type": "stream",
     "text": [
      "['http://shkolagre.narod.ru/', 'http://franceschool.narod.ru/', 'http://school66pnz.narod.ru/', 'http://site-bsos2.narod.ru/', 'http://www.site-sch354lite.narod.ru/', 'http://borezschool.narod.ru/', 'https://school-number-eight.narod.ru/', 'http://shatkjno.narod.ru/', 'http://verhotorschool.narod.ru/', 'http://kodschool4.narod.ru/', 'http://ars-school4.narod.ru/site_teacher.htm', 'http://sc306.narod.ru/for_teachers.html', 'http://dschi6.narod.ru/', 'http://sh2lysva.narod.ru/index4.html', 'http://sh65-volg.narod.ru/', 'http://ok-spravochnik.narod.ru/li.html', 'http://www.school5-nvkz.narod.ru/osnova.html', 'http://www.v-sosh.narod.ru/', 'http://school6krsk.narod.ru/site/ArhiveNews.html', 'http://fk-site.narod.ru/androsov.html', 'http://school19-penza.narod.ru/', 'http://shkolsp.narod.ru/', 'http://kapyar-site.narod.ru/', 'http://sonnets-best.narod.ru/', 'http://www.site-primer.narod.ru/poem/index.html', 'http://marklv.narod.ru/', 'http://ilia-romantic.narod.ru/', 'http://storyer.narod.ru/', 'http://general-site.narod.ru/', 'http://dashin-site.narod.ru/index.files/Page462.htm', 'http://stihi-pro-osen.narod.ru/', 'http://ua9wvf.narod.ru/', 'http://unknown-artist-site.narod.ru/black_white.html', 'http://sergfaq.narod.ru/stihi.html', 'http://www.pilgrim-site.narod.ru/stix.html', 'http://maksim-best-site.narod.ru/stihi.html', 'http://mishich-sites.narod.ru/', 'http://kirillmedvedev.narod.ru/', 'http://zmey-site.narod.ru/', 'http://vvc-site.narod.ru/WB/boris-orlov.-izbrannye-stihi.htm', 'http://yunost-site.narod.ru/stixi/stixi.htm', 'http://selikowsky.narod.ru/Stihi.htm', 'http://lensyn.narod.ru/stihi.html', 'http://zuy-linh.narod.ru/Shibanov.html', 'http://myfeils.narod.ru/journal_l.html', 'http://kolnik2012.narod.ru/', 'http://school66pnz.narod.ru/', 'http://avspir.narod.ru/', 'http://ministryoflove.narod.ru/htmls/dnevnik.htm', 'http://super-a.narod.ru/', 'http://www.diaryofdreams-site.narod.ru/', 'http://forever-site.narod.ru/', 'http://lyashchenko.narod.ru/', 'http://emma-watson-site.narod.ru/', 'http://vplaksina.narod.ru/index/0-80', 'http://zdmitry-page.narod.ru/', 'http://www.hp-site.narod.ru/', 'http://raisatheatre.narod.ru/', 'http://laretz-kulinarniy.narod.ru/', 'http://wwweekend.narod.ru/kitchen.html', 'http://www.cookbook1.narod.ru/', 'http://www.shalunishki.narod.ru/kulinarnaya-kniga.html', 'http://www.smekhov.narod.ru/', 'http://chess555.narod.ru/', 'http://nabchess.narod.ru/', 'http://suhin.narod.ru/chessland3.htm', 'http://www.chessmania.narod.ru/zzz_programs26.html', 'http://testuser7.narod.ru/Index.html', 'http://z0x.narod.ru/site/chess/index.html', 'http://dugima.narod.ru/rus.index.html', 'http://thaichess.narod.ru/', 'http://shogipro.narod.ru/shogirules.html', 'http://chess-sites.narod.ru/', 'http://www.alehinclub.narod.ru/', 'http://cyss-2.narod.ru/', 'http://proint.narod.ru/', 'http://svistuno-sergej.narod.ru/', 'http://www.octoberchess.narod.ru/', 'http://salinnikov.narod.ru/materials/gamezones.htm', 'http://webchess.narod.ru/ics.htm', 'http://vilswindow.narod.ru/shahmaty.htm', 'http://fanclub-matthiashues.narod.ru/', 'http://www.legion-fanclub.narod.ru/', 'http://therasmus-site.narod.ru/', 'http://lm-ciub.narod.ru/', 'http://alphaville.narod.ru/', 'http://maksim-fanclub.narod.ru/', 'http://www.lenatatu.narod.ru/', 'http://nashrock2005.narod.ru/', 'http://o-zone-kharkov.narod.ru/', 'http://www.veber-fk.narod.ru/', 'http://www.aria-site.narod.ru/', 'http://ukrhockey.narod.ru/', 'http://www.blink-182-izh.narod.ru/fan.html', 'http://sprs.narod.ru/fan.shtml', 'http://sikamikanico.narod.ru/', 'http://kornforever.narod.ru/', 'http://ira-toporez.narod.ru/historysite.htm', 'http://www.masha-fk.narod.ru/', 'http://www.elvispresley.narod.ru/']\n",
      "http://shkolagre.narod.ru/\n",
      "Request failed http://shkolagre.narod.ru/Gazeta/Gazeta121.pdf ('Connection broken: IncompleteRead(3149400 bytes read, 876752 more expected)', IncompleteRead(3149400 bytes read, 876752 more expected))\n",
      "Request failed http://shkolagre.narod.ru/Gazeta/Gazeta81.pdf ('Connection aborted.', RemoteDisconnected('Remote end closed connection without response'))\n"
     ]
    }
   ],
   "source": [
    "await main()"
   ],
   "metadata": {
    "collapsed": false,
    "is_executing": true,
    "ExecuteTime": {
     "start_time": "2023-12-05T16:47:09.994696Z"
    }
   },
   "id": "984f3fc96d0dc9d4"
  },
  {
   "cell_type": "code",
   "execution_count": null,
   "outputs": [],
   "source": [],
   "metadata": {
    "collapsed": false,
    "is_executing": true
   },
   "id": "bbc45e11f3d8dcd9"
  }
 ],
 "metadata": {
  "kernelspec": {
   "display_name": "Python 3 (ipykernel)",
   "language": "python",
   "name": "python3"
  },
  "language_info": {
   "codemirror_mode": {
    "name": "ipython",
    "version": 3
   },
   "file_extension": ".py",
   "mimetype": "text/x-python",
   "name": "python",
   "nbconvert_exporter": "python",
   "pygments_lexer": "ipython3",
   "version": "3.11.6"
  }
 },
 "nbformat": 4,
 "nbformat_minor": 5
}
