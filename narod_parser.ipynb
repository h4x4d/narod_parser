{
  "nbformat": 4,
  "nbformat_minor": 0,
  "metadata": {
    "colab": {
      "provenance": [],
      "collapsed_sections": [
        "OS9dx9E7OOLU",
        "VjTewNkgfufi"
      ],
      "authorship_tag": "ABX9TyM7XKclDguEijqG/tmerpm3",
      "include_colab_link": true
    },
    "kernelspec": {
      "name": "python3",
      "display_name": "Python 3"
    },
    "language_info": {
      "name": "python"
    }
  },
  "cells": [
    {
      "cell_type": "markdown",
      "metadata": {
        "id": "view-in-github",
        "colab_type": "text"
      },
      "source": [
        "<a href=\"https://colab.research.google.com/github/h4x4d/narod_parser/blob/main/narod_parser.ipynb\" target=\"_parent\"><img src=\"https://colab.research.google.com/assets/colab-badge.svg\" alt=\"Open In Colab\"/></a>"
      ]
    },
    {
      "cell_type": "markdown",
      "source": [
        "## **Prequesties**:"
      ],
      "metadata": {
        "id": "lQN6eQhSf-pD"
      }
    },
    {
      "cell_type": "markdown",
      "source": [
        "### **Install selenium && other dependencies:**"
      ],
      "metadata": {
        "id": "OS9dx9E7OOLU"
      }
    },
    {
      "cell_type": "code",
      "source": [
        "%%capture\n",
        "%%shell\n",
        "cat > /etc/apt/sources.list.d/debian.list <<'EOF'\n",
        "deb [arch=amd64 signed-by=/usr/share/keyrings/debian-buster.gpg] http://deb.debian.org/debian buster main\n",
        "deb [arch=amd64 signed-by=/usr/share/keyrings/debian-buster-updates.gpg] http://deb.debian.org/debian buster-updates main\n",
        "deb [arch=amd64 signed-by=/usr/share/keyrings/debian-security-buster.gpg] http://deb.debian.org/debian-security buster/updates main\n",
        "EOF\n",
        "\n",
        "apt-key adv --keyserver keyserver.ubuntu.com --recv-keys DCC9EFBF77E11517\n",
        "apt-key adv --keyserver keyserver.ubuntu.com --recv-keys 648ACFD622F3D138\n",
        "apt-key adv --keyserver keyserver.ubuntu.com --recv-keys 112695A0E562B32A\n",
        "\n",
        "apt-key export 77E11517 | gpg --dearmour -o /usr/share/keyrings/debian-buster.gpg\n",
        "apt-key export 22F3D138 | gpg --dearmour -o /usr/share/keyrings/debian-buster-updates.gpg\n",
        "apt-key export E562B32A | gpg --dearmour -o /usr/share/keyrings/debian-security-buster.gpg\n",
        "\n",
        "cat > /etc/apt/preferences.d/chromium.pref << 'EOF'\n",
        "Package: *\n",
        "Pin: release a=eoan\n",
        "Pin-Priority: 500\n",
        "\n",
        "\n",
        "Package: *\n",
        "Pin: origin \"deb.debian.org\"\n",
        "Pin-Priority: 300\n",
        "\n",
        "\n",
        "Package: chromium*\n",
        "Pin: origin \"deb.debian.org\"\n",
        "Pin-Priority: 700\n",
        "EOF\n",
        "\n",
        "apt-get update\n",
        "apt-get install chromium chromium-driver\n",
        "\n",
        "pip install selenium\n",
        "\n",
        "pip install html2text"
      ],
      "metadata": {
        "id": "Ss1qRML-OP-n"
      },
      "execution_count": 2,
      "outputs": []
    },
    {
      "cell_type": "markdown",
      "source": [
        "### **Start selenium browser:**"
      ],
      "metadata": {
        "id": "fWsgVXDOPhJZ"
      }
    },
    {
      "cell_type": "code",
      "source": [
        "from selenium import webdriver\n",
        "\n",
        "\n",
        "chrome_options = webdriver.ChromeOptions()\n",
        "chrome_options.add_argument('--headless')\n",
        "chrome_options.add_argument('--no-sandbox')\n",
        "chrome_options.add_argument('--disable-dev-shm-usage')\n",
        "\n",
        "\n",
        "driver = webdriver.Chrome(options=chrome_options)"
      ],
      "metadata": {
        "id": "8VRVU5SzOwke"
      },
      "execution_count": 75,
      "outputs": []
    },
    {
      "cell_type": "markdown",
      "source": [
        "## **Get site data**:"
      ],
      "metadata": {
        "id": "XKlNkpnrfpN1"
      }
    },
    {
      "cell_type": "code",
      "source": [
        "import requests\n",
        "import re\n",
        "from urllib.parse import urljoin\n",
        "import os\n",
        "import io\n",
        "import shutil\n",
        "from PIL import Image\n",
        "import html2text\n",
        "from bs4 import BeautifulSoup\n",
        "from urllib.request import urlopen\n",
        "import datetime\n",
        "import time"
      ],
      "metadata": {
        "id": "nGxfDjM_iY-S"
      },
      "execution_count": 81,
      "outputs": []
    },
    {
      "cell_type": "code",
      "execution_count": 106,
      "metadata": {
        "id": "townjKycNL2d",
        "colab": {
          "base_uri": "https://localhost:8080/"
        },
        "outputId": "8f99ef32-6b36-4bd0-c2f4-87dbcef82085"
      },
      "outputs": [
        {
          "output_type": "stream",
          "name": "stdout",
          "text": [
            "0 http://shkolagre.narod.ru/\n",
            "time on screen: 0:00:03.258945\n",
            "1 http://franceschool.narod.ru/\n",
            "time on screen: 0:00:05.531360\n",
            "2 http://school66pnz.narod.ru/\n",
            "time on screen: 0:00:05.100129\n",
            "3 http://site-bsos2.narod.ru/\n",
            "time on screen: 0:00:04.755451\n",
            "4 http://www.site-sch354lite.narod.ru/\n",
            "time on screen: 0:00:02.395927\n",
            "5 http://borezschool.narod.ru/\n",
            "time on screen: 0:00:02.866219\n",
            "6 https://school-number-eight.narod.ru/\n",
            "time on screen: 0:00:05.228497\n",
            "7 http://shatkjno.narod.ru/\n",
            "time on screen: 0:00:05.341866\n",
            "8 http://verhotorschool.narod.ru/\n",
            "time on screen: 0:00:05.274742\n",
            "9 http://kodschool4.narod.ru/\n",
            "time on screen: 0:00:05.572955\n",
            "10 http://ars-school4.narod.ru/site_teacher.htm\n",
            "time on screen: 0:00:03.462173\n",
            "11 http://sc306.narod.ru/for_teachers.html\n",
            "time on screen: 0:00:01.202745\n",
            "12 http://dschi6.narod.ru/\n",
            "time on screen: 0:00:01.665928\n",
            "13 http://sh2lysva.narod.ru/index4.html\n",
            "time on screen: 0:00:05.351129\n",
            "14 http://sh65-volg.narod.ru/\n",
            "time on screen: 0:00:03.751607\n",
            "15 http://vik15603335.narod.ru/index/informacija_vazhno/0-2\n",
            "time on screen: 0:00:04.021621\n",
            "16 http://ok-spravochnik.narod.ru/li.html\n",
            "time on screen: 0:00:04.924781\n",
            "17 http://www.school5-nvkz.narod.ru/osnova.html\n",
            "time on screen: 0:00:02.141884\n",
            "18 http://www.v-sosh.narod.ru/\n",
            "time on screen: 0:00:01.566795\n",
            "19 http://school6krsk.narod.ru/site/ArhiveNews.html\n",
            "time on screen: 0:00:03.783502\n",
            "20 http://fk-site.narod.ru/androsov.html\n",
            "time on screen: 0:00:01.529668\n",
            "21 http://school19-penza.narod.ru/\n",
            "time on screen: 0:00:01.606266\n",
            "22 http://shkolsp.narod.ru/\n",
            "time on screen: 0:00:02.418214\n",
            "23 http://kapyar-site.narod.ru/\n",
            "time on screen: 0:00:01.742785\n",
            "24 http://sonnets-best.narod.ru/\n",
            "time on screen: 0:00:01.232142\n",
            "25 http://www.site-primer.narod.ru/poem/index.html\n",
            "time on screen: 0:00:02.735486\n",
            "26 http://marklv.narod.ru/\n",
            "time on screen: 0:00:02.767852\n",
            "27 http://ilia-romantic.narod.ru/\n",
            "time on screen: 0:00:03.540918\n",
            "28 http://storyer.narod.ru/\n",
            "time on screen: 0:00:01.998457\n",
            "29 http://general-site.narod.ru/\n",
            "time on screen: 0:00:02.580283\n",
            "30 http://dashin-site.narod.ru/index.files/Page462.htm\n",
            "time on screen: 0:00:02.078085\n",
            "31 http://stihi-pro-osen.narod.ru/\n",
            "time on screen: 0:00:02.520686\n",
            "32 http://ua9wvf.narod.ru/\n",
            "time on screen: 0:00:02.538709\n",
            "33 http://unknown-artist-site.narod.ru/black_white.html\n",
            "time on screen: 0:00:01.754257\n",
            "34 http://sergfaq.narod.ru/stihi.html\n",
            "time on screen: 0:00:02.181136\n",
            "35 http://www.pilgrim-site.narod.ru/stix.html\n",
            "time on screen: 0:00:02.708125\n",
            "36 http://maksim-best-site.narod.ru/stihi.html\n",
            "time on screen: 0:00:02.091609\n",
            "37 http://mishich-sites.narod.ru/\n",
            "time on screen: 0:00:03.247032\n",
            "38 http://kirillmedvedev.narod.ru/\n",
            "time on screen: 0:00:02.233566\n",
            "39 http://zmey-site.narod.ru/\n",
            "time on screen: 0:00:02.968033\n",
            "40 http://vvc-site.narod.ru/WB/boris-orlov.-izbrannye-stihi.htm\n",
            "time on screen: 0:00:02.233094\n",
            "41 http://yunost-site.narod.ru/stixi/stixi.htm\n",
            "time on screen: 0:00:05.169671\n",
            "42 http://selikowsky.narod.ru/Stihi.htm\n",
            "time on screen: 0:00:02.066521\n",
            "43 http://lensyn.narod.ru/stihi.html\n",
            "time on screen: 0:00:05.153603\n",
            "44 http://zuy-linh.narod.ru/Shibanov.html\n",
            "time on screen: 0:00:01.870235\n",
            "45 http://myfeils.narod.ru/journal_l.html\n",
            "time on screen: 0:00:04.725532\n",
            "46 http://kolnik2012.narod.ru/\n",
            "time on screen: 0:00:02.686213\n",
            "47 http://school66pnz.narod.ru/\n",
            "time on screen: 0:00:01.627114\n",
            "48 http://avspir.narod.ru/\n",
            "time on screen: 0:00:01.763189\n",
            "49 http://ministryoflove.narod.ru/htmls/dnevnik.htm\n",
            "time on screen: 0:00:01.958900\n",
            "50 http://super-a.narod.ru/\n",
            "time on screen: 0:00:05.263298\n",
            "51 http://www.diaryofdreams-site.narod.ru/\n",
            "time on screen: 0:00:01.869284\n",
            "52 http://forever-site.narod.ru/\n",
            "time on screen: 0:00:02.023177\n",
            "53 http://lyashchenko.narod.ru/\n",
            "time on screen: 0:00:02.054505\n",
            "54 http://emma-watson-site.narod.ru/\n",
            "time on screen: 0:00:02.264856\n",
            "55 http://vplaksina.narod.ru/index/0-80\n",
            "time on screen: 0:00:05.361962\n",
            "56 http://zdmitry-page.narod.ru/\n",
            "time on screen: 0:00:03.000502\n",
            "57 http://www.hp-site.narod.ru/\n",
            "time on screen: 0:00:02.465481\n",
            "58 http://raisatheatre.narod.ru/\n",
            "time on screen: 0:00:05.106662\n",
            "59 http://laretz-kulinarniy.narod.ru/\n",
            "time on screen: 0:00:01.765380\n",
            "60 http://wwweekend.narod.ru/kitchen.html\n",
            "time on screen: 0:00:02.223224\n",
            "61 http://www.cookbook1.narod.ru/\n",
            "time on screen: 0:00:03.475021\n",
            "62 http://www.shalunishki.narod.ru/kulinarnaya-kniga.html\n",
            "time on screen: 0:00:01.396889\n",
            "63 http://www.smekhov.narod.ru/\n",
            "time on screen: 0:00:05.255020\n",
            "64 http://chess555.narod.ru/\n",
            "time on screen: 0:00:02.452219\n",
            "65 http://nabchess.narod.ru/\n",
            "time on screen: 0:00:05.323158\n",
            "66 http://suhin.narod.ru/chessland3.htm\n",
            "time on screen: 0:00:01.990405\n",
            "67 http://www.chessmania.narod.ru/zzz_programs26.html\n",
            "time on screen: 0:00:03.186267\n",
            "68 http://testuser7.narod.ru/Index.html\n",
            "time on screen: 0:00:02.923028\n",
            "69 http://z0x.narod.ru/site/chess/index.html\n",
            "time on screen: 0:00:02.722881\n",
            "70 http://dugima.narod.ru/rus.index.html\n",
            "time on screen: 0:00:02.045101\n",
            "71 http://thaichess.narod.ru/\n",
            "time on screen: 0:00:02.338963\n",
            "72 http://shogipro.narod.ru/shogirules.html\n",
            "time on screen: 0:00:02.379664\n",
            "73 http://chess-sites.narod.ru/\n",
            "time on screen: 0:00:01.861251\n",
            "74 http://www.alehinclub.narod.ru/\n",
            "time on screen: 0:00:01.308314\n",
            "75 http://cyss-2.narod.ru/\n",
            "time on screen: 0:00:01.987672\n",
            "76 http://proint.narod.ru/\n",
            "time on screen: 0:00:01.866070\n",
            "77 http://svistuno-sergej.narod.ru/\n",
            "time on screen: 0:00:03.315859\n",
            "78 http://www.octoberchess.narod.ru/\n",
            "time on screen: 0:00:01.863845\n",
            "79 http://salinnikov.narod.ru/materials/gamezones.htm\n",
            "time on screen: 0:00:01.855391\n",
            "80 http://webchess.narod.ru/ics.htm\n",
            "time on screen: 0:00:01.924493\n",
            "81 http://vilswindow.narod.ru/shahmaty.htm\n",
            "time on screen: 0:00:02.425247\n",
            "82 http://fanclub-matthiashues.narod.ru/\n",
            "time on screen: 0:00:05.167874\n",
            "83 http://www.legion-fanclub.narod.ru/\n",
            "time on screen: 0:00:02.022959\n",
            "84 http://therasmus-site.narod.ru/\n",
            "time on screen: 0:00:02.668584\n",
            "85 http://lm-ciub.narod.ru/\n",
            "time on screen: 0:00:02.148081\n",
            "86 http://alphaville.narod.ru/\n",
            "time on screen: 0:00:02.719817\n",
            "87 http://maksim-fanclub.narod.ru/\n",
            "time on screen: 0:00:03.111521\n",
            "88 http://www.lenatatu.narod.ru/\n",
            "time on screen: 0:00:01.774474\n",
            "89 http://nashrock2005.narod.ru/\n",
            "time on screen: 0:00:03.642298\n",
            "90 http://o-zone-kharkov.narod.ru/\n",
            "time on screen: 0:00:02.599330\n",
            "91 http://www.veber-fk.narod.ru/\n",
            "time on screen: 0:00:01.938506\n",
            "92 http://www.aria-site.narod.ru/\n",
            "time on screen: 0:00:02.535683\n",
            "93 http://ukrhockey.narod.ru/\n",
            "time on screen: 0:00:01.810686\n",
            "94 http://www.blink-182-izh.narod.ru/fan.html\n",
            "time on screen: 0:00:01.795322\n",
            "95 http://sprs.narod.ru/fan.shtml\n",
            "time on screen: 0:00:05.381759\n",
            "96 http://sikamikanico.narod.ru/\n",
            "time on screen: 0:00:02.342184\n",
            "97 http://kornforever.narod.ru/\n",
            "time on screen: 0:00:03.569013\n",
            "98 http://ira-toporez.narod.ru/historysite.htm\n",
            "time on screen: 0:00:01.932637\n",
            "99 http://www.masha-fk.narod.ru/\n",
            "time on screen: 0:00:02.056678\n",
            "100 http://www.elvispresley.narod.ru/\n",
            "time on screen: 0:00:03.352889\n"
          ]
        }
      ],
      "source": [
        "os.chdir('/content')\n",
        "sites = open('Narod.txt')\n",
        "driver = webdriver.Chrome(options=chrome_options)\n",
        "driver.set_page_load_timeout(5)\n",
        "driver.set_window_size(1024, 768)\n",
        "time_start = datetime.datetime.now()\n",
        "\n",
        "for index, site_url in enumerate(sites):\n",
        "  site_url = site_url.strip()\n",
        "  # variables\n",
        "  sources = site_url[:site_url.rfind('/')]\n",
        "\n",
        "  path = sources[sources.find('://') + 3:].replace('/', '_')\n",
        "  if os.path.exists(path):\n",
        "    shutil.rmtree(path)\n",
        "  os.mkdir(path)\n",
        "  os.chdir(path)\n",
        "\n",
        "\n",
        "  resp = requests.get(site_url)\n",
        "\n",
        "  # make all links absolute\n",
        "  html = resp.text\n",
        "  absolutize = lambda m: ' src=\"' + urljoin(sources, m.group(1)) + '\"'\n",
        "  html = re.sub(r' src=\"([^\"]+)\"', absolutize, html)\n",
        "  absolutize2 = lambda m: ' href=\"' + urljoin(sources, m.group(1)) + '\"'\n",
        "  html = re.sub(r' href=\"([^\"]+)\"', absolutize2, html)\n",
        "\n",
        "  # remove ads\n",
        "  html = html[:html.rfind('<!-- copyright (t2) -->')]\n",
        "\n",
        "  # save html\n",
        "  open('index.html', 'w').write(html)\n",
        "\n",
        "\n",
        "  # take screenshot\n",
        "  try:\n",
        "    driver.get(site_url)\n",
        "  except:\n",
        "    pass\n",
        "  temp = io.BytesIO(driver.get_screenshot_as_png())\n",
        "\n",
        "  image = Image.open(temp)\n",
        "  x, y = image.size\n",
        "  image = image.crop((0, 0, x - 15, y-15))\n",
        "  image = image.resize((400, 300), Image.Resampling.LANCZOS)\n",
        "  image.convert('RGB').save('screenshot.jpg')\n",
        "\n",
        "  # get markdown text file\n",
        "  open('text.md', 'w').write(html2text.html2text(html))\n",
        "\n",
        "  # get plain text file\n",
        "\n",
        "  soup = BeautifulSoup(html, features=\"html.parser\")\n",
        "\n",
        "  # kill all script and style elements\n",
        "  for script in soup([\"script\", \"style\"]):\n",
        "      script.extract()    # rip it out\n",
        "\n",
        "  # get text\n",
        "  text = soup.get_text()\n",
        "\n",
        "  # break into lines and remove leading and trailing space on each\n",
        "  lines = (line.strip() for line in text.splitlines())\n",
        "  # break multi-headlines into a line each\n",
        "  chunks = (phrase.strip() for line in lines for phrase in line.split(\"  \"))\n",
        "  # drop blank lines\n",
        "  text = '\\n'.join(chunk for chunk in chunks if chunk)\n",
        "\n",
        "  open('text.txt', 'w').write(text)\n",
        "\n",
        "  open('site_info.txt', 'w').write(\n",
        "      f'''\n",
        "      SITE URL: {site_url}\n",
        "\n",
        "      OTHER INFO...\n",
        "      '''\n",
        "  )\n",
        "\n",
        "  os.chdir('..')\n",
        "  print(index, site_url, 'time now:', datetime.datetime.now() - time_start)\n",
        "\n",
        "\n",
        "\n",
        "  print('time all:', datetime.datetime.now() - time_start, (datetime.datetime.now() - time_start) / 100)"
      ]
    },
    {
      "cell_type": "markdown",
      "source": [
        "## **Using data:**"
      ],
      "metadata": {
        "id": "y9E2GV3t7XzP"
      }
    },
    {
      "cell_type": "code",
      "source": [
        "os.chdir('..')\n",
        "\n",
        "shutil.make_archive('sites', 'zip', '/content')"
      ],
      "metadata": {
        "colab": {
          "base_uri": "https://localhost:8080/",
          "height": 35
        },
        "id": "0uGRp-VU7b_s",
        "outputId": "72b115a5-20dc-467e-f88d-3c7f4c764d01"
      },
      "execution_count": 107,
      "outputs": [
        {
          "output_type": "execute_result",
          "data": {
            "text/plain": [
              "'/sites.zip'"
            ],
            "application/vnd.google.colaboratory.intrinsic+json": {
              "type": "string"
            }
          },
          "metadata": {},
          "execution_count": 107
        }
      ]
    },
    {
      "cell_type": "markdown",
      "source": [
        "## **On exit**:"
      ],
      "metadata": {
        "id": "VjTewNkgfufi"
      }
    },
    {
      "cell_type": "markdown",
      "source": [
        "### **Quit driver:**"
      ],
      "metadata": {
        "id": "9wfkQalGWSij"
      }
    },
    {
      "cell_type": "code",
      "source": [
        "driver.quit()"
      ],
      "metadata": {
        "id": "SJNKF8Z_QkLS"
      },
      "execution_count": 84,
      "outputs": []
    }
  ]
}