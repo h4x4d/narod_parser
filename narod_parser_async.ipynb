{
 "cells": [
  {
   "cell_type": "markdown",
   "id": "f3056d55-2764-48b4-b553-67ea234393ac",
   "metadata": {},
   "source": [
    "## **Imports**"
   ]
  },
  {
   "cell_type": "code",
   "execution_count": 703,
   "id": "af4e1135-916d-4722-9bd0-b1ddc477001e",
   "metadata": {
    "ExecuteTime": {
     "end_time": "2023-12-04T19:12:47.046726Z",
     "start_time": "2023-12-04T19:12:46.885579Z"
    }
   },
   "outputs": [],
   "source": [
    "# db\n",
    "import aiosqlite\n",
    "\n",
    "# web\n",
    "import aiohttp\n",
    "import asyncio\n",
    "\n",
    "# analysis \n",
    "from bs4 import BeautifulSoup\n",
    "import re\n",
    "from urllib.parse import urljoin\n",
    "\n",
    "# system\n",
    "import os\n",
    "import sys\n",
    "import shutil"
   ]
  },
  {
   "cell_type": "markdown",
   "id": "11cd9798-09b7-4408-a7be-f4ee2bc90fe5",
   "metadata": {},
   "source": [
    "## **Database**"
   ]
  },
  {
   "cell_type": "code",
   "execution_count": 704,
   "outputs": [],
   "source": [
    "DATABASE_NAME = 'sites.db'"
   ],
   "metadata": {
    "collapsed": false,
    "ExecuteTime": {
     "end_time": "2023-12-04T19:12:47.048728Z",
     "start_time": "2023-12-04T19:12:46.893838Z"
    }
   },
   "id": "d6d740fc3001f26b"
  },
  {
   "cell_type": "code",
   "execution_count": 705,
   "outputs": [],
   "source": [
    "async def fill_database(name=DATABASE_NAME, rewrite=True):\n",
    "    if rewrite and os.path.isfile(name):\n",
    "        os.remove(name)\n",
    "    async with aiosqlite.connect(DATABASE_NAME) as db: \n",
    "        await db.execute('''\n",
    "        CREATE TABLE pages (\n",
    "          id INTEGER PRIMARY KEY AUTOINCREMENT,\n",
    "          url TEXT,\n",
    "          page_name TEXT,\n",
    "          \n",
    "          pure_html TEXT,\n",
    "          plain_text TEXT\n",
    "        )\n",
    "        ''')\n",
    "        \n",
    "        await db.execute('''\n",
    "        CREATE TABLE children (\n",
    "          id INTEGER PRIMARY KEY AUTOINCREMENT,\n",
    "          root_id INTEGER,\n",
    "          child_id INTEGER,\n",
    "          FOREIGN KEY (root_id)  REFERENCES pages(id),\n",
    "          FOREIGN KEY (child_id)  REFERENCES pages(id)\n",
    "        )\n",
    "        ''')\n",
    "        \n",
    "        await db.execute('''\n",
    "        CREATE TABLE sites (\n",
    "          id INTEGER PRIMARY KEY AUTOINCREMENT,\n",
    "          url TEXT,\n",
    "          site_name TEXT,\n",
    "          root_id INTEGER,\n",
    "          FOREIGN KEY (root_id)  REFERENCES pages(id)\n",
    "        )\n",
    "        ''')\n",
    "        \n",
    "        for page in pages:\n",
    "            await db.execute('INSERT INTO pages VALUES(?, ?, ?, ?, ?)', page)\n",
    "        for site in sites:\n",
    "            await db.execute('INSERT INTO sites VALUES(?, ?, ?, ?)', site)\n",
    "        for rel in children:\n",
    "            await db.execute('INSERT INTO childern VALUES(?, ?, ?)', rel)\n",
    "            \n",
    "        await db.commit()\n",
    "        "
   ],
   "metadata": {
    "collapsed": false,
    "ExecuteTime": {
     "end_time": "2023-12-04T19:12:47.069457Z",
     "start_time": "2023-12-04T19:12:46.913077Z"
    }
   },
   "id": "2dcbc706ef9e5cbd"
  },
  {
   "cell_type": "markdown",
   "id": "76f556b4c58834b8",
   "metadata": {
    "collapsed": false
   },
   "source": [
    "## **Get site data**"
   ]
  },
  {
   "cell_type": "code",
   "execution_count": 706,
   "outputs": [],
   "source": [
    "pages = []\n",
    "children = []\n",
    "sites = []"
   ],
   "metadata": {
    "collapsed": false,
    "ExecuteTime": {
     "end_time": "2023-12-04T19:12:47.069785Z",
     "start_time": "2023-12-04T19:12:46.928424Z"
    }
   },
   "id": "7b09ee0bf41b54de"
  },
  {
   "cell_type": "code",
   "execution_count": 707,
   "outputs": [],
   "source": [
    "headers = {\n",
    "    'Accept-Language': 'ru,en;q=0.9',\n",
    "    'Cache-Control': 'max-age=0',\n",
    "    'Connection': 'keep-alive',\n",
    "    'User-Agent': 'Mozilla/5.0 (Macintosh; Intel Mac OS X 10_15_7) AppleWebKit/537.36 (KHTML, like Gecko) Chrome/119.0.0.0 Safari/537.36',\n",
    "}"
   ],
   "metadata": {
    "collapsed": false,
    "ExecuteTime": {
     "end_time": "2023-12-04T19:12:47.069917Z",
     "start_time": "2023-12-04T19:12:46.939729Z"
    }
   },
   "id": "4230e049cd90ce"
  },
  {
   "cell_type": "code",
   "execution_count": 708,
   "outputs": [],
   "source": [
    "def make_links_absolute(html, url):\n",
    "    absolutize = lambda m: ' src=\"' + urljoin(url, m.group(1)) + '\"'\n",
    "    html = re.sub(r' src=\"([^\"]+)\"', absolutize, html)\n",
    "    absolutize2 = lambda m: ' href=\"' + urljoin(url, m.group(1)) + '\"'\n",
    "    html = re.sub(r' href=\"([^\"]+)\"', absolutize2, html)\n",
    "    return html"
   ],
   "metadata": {
    "collapsed": false,
    "ExecuteTime": {
     "end_time": "2023-12-04T19:12:47.069994Z",
     "start_time": "2023-12-04T19:12:46.956027Z"
    }
   },
   "id": "741ffea04e5becae"
  },
  {
   "cell_type": "code",
   "execution_count": 709,
   "outputs": [],
   "source": [
    "async def get_plain_text(soup):\n",
    "    for script in soup([\"script\", \"style\"]):\n",
    "      script.extract()\n",
    "\n",
    "    text = soup.get_text()\n",
    "    \n",
    "    lines = (line.strip() for line in text.splitlines())\n",
    "    chunks = (phrase.strip() for line in lines for phrase in line.split(\"  \"))\n",
    "    return '\\n'.join(chunk for chunk in chunks if chunk)"
   ],
   "metadata": {
    "collapsed": false,
    "ExecuteTime": {
     "end_time": "2023-12-04T19:12:47.070260Z",
     "start_time": "2023-12-04T19:12:46.966075Z"
    }
   },
   "id": "2f79248f10dbe085"
  },
  {
   "cell_type": "code",
   "execution_count": 710,
   "outputs": [],
   "source": [
    "async def get_links(soup):\n",
    "    for script in soup([\"script\", \"style\"]):\n",
    "      script.extract()\n",
    "\n",
    "    text = soup.get_text()\n",
    "    \n",
    "    lines = (line.strip() for line in text.splitlines())\n",
    "    chunks = (phrase.strip() for line in lines for phrase in line.split(\"  \"))\n",
    "    return '\\n'.join(chunk for chunk in chunks if chunk)"
   ],
   "metadata": {
    "collapsed": false,
    "ExecuteTime": {
     "end_time": "2023-12-04T19:12:47.070368Z",
     "start_time": "2023-12-04T19:12:46.978072Z"
    }
   },
   "id": "68ca34456f8ac6d4"
  },
  {
   "cell_type": "code",
   "execution_count": 711,
   "outputs": [],
   "source": [
    "async def get_page(session: aiohttp.ClientSession, url: str, root = 0):\n",
    "    try:\n",
    "        await asyncio.sleep(0.1)\n",
    "        async with session.get(url, headers=headers) as response:\n",
    "            await asyncio.sleep(0.01)\n",
    "            text = await response.text(errors='replace')\n",
    "            text = make_links_absolute(text, url)\n",
    "            text = text[:text.rfind('<!-- copyright (t2) -->')]\n",
    "            \n",
    "            soup = BeautifulSoup(text, features=\"html.parser\")\n",
    "            plain_text = await get_plain_text(soup)\n",
    "            title = soup.title.string if soup.title else \"\"\n",
    "            \n",
    "            index = len(pages) + 1\n",
    "            pages.append((index, url, str(title), text, plain_text))\n",
    "            \n",
    "            if root > 0:\n",
    "                ch_i = len(children) + 1\n",
    "                children.append((ch_i, root, index))\n",
    "            \n",
    "            site = url[url.find('://') + 3:]\n",
    "            site = site[:site.find('/')]\n",
    "            tasks = []\n",
    "            for link in soup.findAll('a'):\n",
    "                link = link.get('href')\n",
    "                if link and site in link and link.startswith('http'):\n",
    "                    task = asyncio.create_task(get_page(session, link))\n",
    "                    tasks.append(task)\n",
    "                    \n",
    "            await asyncio.gather(*tasks)\n",
    "            \n",
    "            return index\n",
    "    except aiohttp.ClientConnectorError:\n",
    "        print(url)\n",
    "        "
   ],
   "metadata": {
    "collapsed": false,
    "ExecuteTime": {
     "end_time": "2023-12-04T19:12:47.070760Z",
     "start_time": "2023-12-04T19:12:47.009240Z"
    }
   },
   "id": "e1d7e5264e512bc6"
  },
  {
   "cell_type": "code",
   "execution_count": 712,
   "outputs": [],
   "source": [
    "async def get_site(session: aiohttp.ClientSession, url: str):\n",
    "    root = await get_page(session, url)\n",
    "    index = len(sites) + 1\n",
    "    print(index)\n",
    "    sites.append((index, url, pages[root - 1][2], root))"
   ],
   "metadata": {
    "collapsed": false,
    "ExecuteTime": {
     "end_time": "2023-12-04T19:12:47.070884Z",
     "start_time": "2023-12-04T19:12:47.027366Z"
    }
   },
   "id": "2feffea2be1f7049"
  },
  {
   "cell_type": "code",
   "execution_count": 713,
   "outputs": [],
   "source": [
    "async def gather_sites(sites):\n",
    "    async with aiohttp.ClientSession() as session:\n",
    "        tasks = []\n",
    "        \n",
    "        for site_link in sites:\n",
    "            task = asyncio.create_task(get_site(session, site_link))\n",
    "            tasks.append(task)\n",
    "        \n",
    "        await asyncio.gather(*tasks)\n",
    "        \n",
    "        await fill_database()"
   ],
   "metadata": {
    "collapsed": false,
    "ExecuteTime": {
     "end_time": "2023-12-04T19:12:47.070953Z",
     "start_time": "2023-12-04T19:12:47.037100Z"
    }
   },
   "id": "9c605efea103ff21"
  },
  {
   "cell_type": "code",
   "execution_count": 714,
   "id": "97dd6d8cb7b683d0",
   "metadata": {
    "collapsed": false,
    "ExecuteTime": {
     "end_time": "2023-12-04T19:12:47.072391Z",
     "start_time": "2023-12-04T19:12:47.047895Z"
    }
   },
   "outputs": [],
   "source": [
    "async def main():\n",
    "    sites = [i.strip() for i in open('Narod.txt')]\n",
    "    await gather_sites(sites)"
   ]
  },
  {
   "cell_type": "code",
   "execution_count": 715,
   "outputs": [
    {
     "name": "stdout",
     "output_type": "stream",
     "text": [
      "1\n",
      "2\n",
      "3\n",
      "4\n",
      "5\n",
      "6\n",
      "7\n",
      "8\n",
      "9\n",
      "10\n",
      "11\n",
      "12\n",
      "13\n",
      "14\n",
      "15\n",
      "16\n",
      "17\n",
      "https://school-number-eight.narod.ru/\n",
      "18\n",
      "https://school-number-eight.narod.ru/\n",
      "18\n"
     ]
    },
    {
     "ename": "ServerDisconnectedError",
     "evalue": "Server disconnected",
     "output_type": "error",
     "traceback": [
      "\u001B[0;31m---------------------------------------------------------------------------\u001B[0m",
      "\u001B[0;31mServerDisconnectedError\u001B[0m                   Traceback (most recent call last)",
      "Cell \u001B[0;32mIn[715], line 1\u001B[0m\n\u001B[0;32m----> 1\u001B[0m \u001B[38;5;28;01mawait\u001B[39;00m main()\n",
      "Cell \u001B[0;32mIn[714], line 3\u001B[0m, in \u001B[0;36mmain\u001B[0;34m()\u001B[0m\n\u001B[1;32m      1\u001B[0m \u001B[38;5;28;01masync\u001B[39;00m \u001B[38;5;28;01mdef\u001B[39;00m \u001B[38;5;21mmain\u001B[39m():\n\u001B[1;32m      2\u001B[0m     sites \u001B[38;5;241m=\u001B[39m [i\u001B[38;5;241m.\u001B[39mstrip() \u001B[38;5;28;01mfor\u001B[39;00m i \u001B[38;5;129;01min\u001B[39;00m \u001B[38;5;28mopen\u001B[39m(\u001B[38;5;124m'\u001B[39m\u001B[38;5;124mNarod.txt\u001B[39m\u001B[38;5;124m'\u001B[39m)]\n\u001B[0;32m----> 3\u001B[0m     \u001B[38;5;28;01mawait\u001B[39;00m gather_sites(sites)\n",
      "Cell \u001B[0;32mIn[713], line 9\u001B[0m, in \u001B[0;36mgather_sites\u001B[0;34m(sites)\u001B[0m\n\u001B[1;32m      6\u001B[0m     task \u001B[38;5;241m=\u001B[39m asyncio\u001B[38;5;241m.\u001B[39mcreate_task(get_site(session, site_link))\n\u001B[1;32m      7\u001B[0m     tasks\u001B[38;5;241m.\u001B[39mappend(task)\n\u001B[0;32m----> 9\u001B[0m \u001B[38;5;28;01mawait\u001B[39;00m asyncio\u001B[38;5;241m.\u001B[39mgather(\u001B[38;5;241m*\u001B[39mtasks)\n\u001B[1;32m     11\u001B[0m \u001B[38;5;28;01mawait\u001B[39;00m fill_database()\n",
      "Cell \u001B[0;32mIn[712], line 2\u001B[0m, in \u001B[0;36mget_site\u001B[0;34m(session, url)\u001B[0m\n\u001B[1;32m      1\u001B[0m \u001B[38;5;28;01masync\u001B[39;00m \u001B[38;5;28;01mdef\u001B[39;00m \u001B[38;5;21mget_site\u001B[39m(session: aiohttp\u001B[38;5;241m.\u001B[39mClientSession, url: \u001B[38;5;28mstr\u001B[39m):\n\u001B[0;32m----> 2\u001B[0m     root \u001B[38;5;241m=\u001B[39m \u001B[38;5;28;01mawait\u001B[39;00m get_page(session, url)\n\u001B[1;32m      3\u001B[0m     index \u001B[38;5;241m=\u001B[39m \u001B[38;5;28mlen\u001B[39m(sites) \u001B[38;5;241m+\u001B[39m \u001B[38;5;241m1\u001B[39m\n\u001B[1;32m      4\u001B[0m     \u001B[38;5;28mprint\u001B[39m(index)\n",
      "Cell \u001B[0;32mIn[711], line 30\u001B[0m, in \u001B[0;36mget_page\u001B[0;34m(session, url, root)\u001B[0m\n\u001B[1;32m     27\u001B[0m                 task \u001B[38;5;241m=\u001B[39m asyncio\u001B[38;5;241m.\u001B[39mcreate_task(get_page(session, link))\n\u001B[1;32m     28\u001B[0m                 tasks\u001B[38;5;241m.\u001B[39mappend(task)\n\u001B[0;32m---> 30\u001B[0m         \u001B[38;5;28;01mawait\u001B[39;00m asyncio\u001B[38;5;241m.\u001B[39mgather(\u001B[38;5;241m*\u001B[39mtasks)\n\u001B[1;32m     32\u001B[0m         \u001B[38;5;28;01mreturn\u001B[39;00m index\n\u001B[1;32m     33\u001B[0m \u001B[38;5;28;01mexcept\u001B[39;00m aiohttp\u001B[38;5;241m.\u001B[39mClientConnectorError:\n",
      "Cell \u001B[0;32mIn[711], line 4\u001B[0m, in \u001B[0;36mget_page\u001B[0;34m(session, url, root)\u001B[0m\n\u001B[1;32m      2\u001B[0m \u001B[38;5;28;01mtry\u001B[39;00m:\n\u001B[1;32m      3\u001B[0m     \u001B[38;5;28;01mawait\u001B[39;00m asyncio\u001B[38;5;241m.\u001B[39msleep(\u001B[38;5;241m1.01\u001B[39m)\n\u001B[0;32m----> 4\u001B[0m     \u001B[38;5;28;01masync\u001B[39;00m \u001B[38;5;28;01mwith\u001B[39;00m session\u001B[38;5;241m.\u001B[39mget(url, headers\u001B[38;5;241m=\u001B[39mheaders) \u001B[38;5;28;01mas\u001B[39;00m response:\n\u001B[1;32m      5\u001B[0m         \u001B[38;5;28;01mawait\u001B[39;00m asyncio\u001B[38;5;241m.\u001B[39msleep(\u001B[38;5;241m0.01\u001B[39m)\n\u001B[1;32m      6\u001B[0m         text \u001B[38;5;241m=\u001B[39m \u001B[38;5;28;01mawait\u001B[39;00m response\u001B[38;5;241m.\u001B[39mtext(errors\u001B[38;5;241m=\u001B[39m\u001B[38;5;124m'\u001B[39m\u001B[38;5;124mreplace\u001B[39m\u001B[38;5;124m'\u001B[39m)\n",
      "File \u001B[0;32m~/PycharmProjects/narod_parser/venv/lib/python3.10/site-packages/aiohttp/client.py:1187\u001B[0m, in \u001B[0;36m_BaseRequestContextManager.__aenter__\u001B[0;34m(self)\u001B[0m\n\u001B[1;32m   1186\u001B[0m \u001B[38;5;28;01masync\u001B[39;00m \u001B[38;5;28;01mdef\u001B[39;00m \u001B[38;5;21m__aenter__\u001B[39m(\u001B[38;5;28mself\u001B[39m) \u001B[38;5;241m-\u001B[39m\u001B[38;5;241m>\u001B[39m _RetType:\n\u001B[0;32m-> 1187\u001B[0m     \u001B[38;5;28mself\u001B[39m\u001B[38;5;241m.\u001B[39m_resp \u001B[38;5;241m=\u001B[39m \u001B[38;5;28;01mawait\u001B[39;00m \u001B[38;5;28mself\u001B[39m\u001B[38;5;241m.\u001B[39m_coro\n\u001B[1;32m   1188\u001B[0m     \u001B[38;5;28;01mreturn\u001B[39;00m \u001B[38;5;28mself\u001B[39m\u001B[38;5;241m.\u001B[39m_resp\n",
      "File \u001B[0;32m~/PycharmProjects/narod_parser/venv/lib/python3.10/site-packages/aiohttp/client.py:601\u001B[0m, in \u001B[0;36mClientSession._request\u001B[0;34m(self, method, str_or_url, params, data, json, cookies, headers, skip_auto_headers, auth, allow_redirects, max_redirects, compress, chunked, expect100, raise_for_status, read_until_eof, proxy, proxy_auth, timeout, verify_ssl, fingerprint, ssl_context, ssl, server_hostname, proxy_headers, trace_request_ctx, read_bufsize, auto_decompress, max_line_size, max_field_size)\u001B[0m\n\u001B[1;32m    599\u001B[0m resp \u001B[38;5;241m=\u001B[39m \u001B[38;5;28;01mawait\u001B[39;00m req\u001B[38;5;241m.\u001B[39msend(conn)\n\u001B[1;32m    600\u001B[0m \u001B[38;5;28;01mtry\u001B[39;00m:\n\u001B[0;32m--> 601\u001B[0m     \u001B[38;5;28;01mawait\u001B[39;00m resp\u001B[38;5;241m.\u001B[39mstart(conn)\n\u001B[1;32m    602\u001B[0m \u001B[38;5;28;01mexcept\u001B[39;00m \u001B[38;5;167;01mBaseException\u001B[39;00m:\n\u001B[1;32m    603\u001B[0m     resp\u001B[38;5;241m.\u001B[39mclose()\n",
      "File \u001B[0;32m~/PycharmProjects/narod_parser/venv/lib/python3.10/site-packages/aiohttp/client_reqrep.py:965\u001B[0m, in \u001B[0;36mClientResponse.start\u001B[0;34m(self, connection)\u001B[0m\n\u001B[1;32m    963\u001B[0m \u001B[38;5;28;01mtry\u001B[39;00m:\n\u001B[1;32m    964\u001B[0m     protocol \u001B[38;5;241m=\u001B[39m \u001B[38;5;28mself\u001B[39m\u001B[38;5;241m.\u001B[39m_protocol\n\u001B[0;32m--> 965\u001B[0m     message, payload \u001B[38;5;241m=\u001B[39m \u001B[38;5;28;01mawait\u001B[39;00m protocol\u001B[38;5;241m.\u001B[39mread()  \u001B[38;5;66;03m# type: ignore[union-attr]\u001B[39;00m\n\u001B[1;32m    966\u001B[0m \u001B[38;5;28;01mexcept\u001B[39;00m http\u001B[38;5;241m.\u001B[39mHttpProcessingError \u001B[38;5;28;01mas\u001B[39;00m exc:\n\u001B[1;32m    967\u001B[0m     \u001B[38;5;28;01mraise\u001B[39;00m ClientResponseError(\n\u001B[1;32m    968\u001B[0m         \u001B[38;5;28mself\u001B[39m\u001B[38;5;241m.\u001B[39mrequest_info,\n\u001B[1;32m    969\u001B[0m         \u001B[38;5;28mself\u001B[39m\u001B[38;5;241m.\u001B[39mhistory,\n\u001B[0;32m   (...)\u001B[0m\n\u001B[1;32m    972\u001B[0m         headers\u001B[38;5;241m=\u001B[39mexc\u001B[38;5;241m.\u001B[39mheaders,\n\u001B[1;32m    973\u001B[0m     ) \u001B[38;5;28;01mfrom\u001B[39;00m \u001B[38;5;21;01mexc\u001B[39;00m\n",
      "File \u001B[0;32m~/PycharmProjects/narod_parser/venv/lib/python3.10/site-packages/aiohttp/streams.py:622\u001B[0m, in \u001B[0;36mDataQueue.read\u001B[0;34m(self)\u001B[0m\n\u001B[1;32m    620\u001B[0m \u001B[38;5;28mself\u001B[39m\u001B[38;5;241m.\u001B[39m_waiter \u001B[38;5;241m=\u001B[39m \u001B[38;5;28mself\u001B[39m\u001B[38;5;241m.\u001B[39m_loop\u001B[38;5;241m.\u001B[39mcreate_future()\n\u001B[1;32m    621\u001B[0m \u001B[38;5;28;01mtry\u001B[39;00m:\n\u001B[0;32m--> 622\u001B[0m     \u001B[38;5;28;01mawait\u001B[39;00m \u001B[38;5;28mself\u001B[39m\u001B[38;5;241m.\u001B[39m_waiter\n\u001B[1;32m    623\u001B[0m \u001B[38;5;28;01mexcept\u001B[39;00m (asyncio\u001B[38;5;241m.\u001B[39mCancelledError, asyncio\u001B[38;5;241m.\u001B[39mTimeoutError):\n\u001B[1;32m    624\u001B[0m     \u001B[38;5;28mself\u001B[39m\u001B[38;5;241m.\u001B[39m_waiter \u001B[38;5;241m=\u001B[39m \u001B[38;5;28;01mNone\u001B[39;00m\n",
      "\u001B[0;31mServerDisconnectedError\u001B[0m: Server disconnected"
     ]
    }
   ],
   "source": [
    "await main()"
   ],
   "metadata": {
    "collapsed": false,
    "ExecuteTime": {
     "end_time": "2023-12-04T19:13:52.062272Z",
     "start_time": "2023-12-04T19:12:47.056035Z"
    }
   },
   "id": "984f3fc96d0dc9d4"
  },
  {
   "cell_type": "code",
   "execution_count": null,
   "outputs": [],
   "source": [],
   "metadata": {
    "collapsed": false,
    "ExecuteTime": {
     "start_time": "2023-12-04T19:13:52.060247Z"
    }
   },
   "id": "bbc45e11f3d8dcd9"
  }
 ],
 "metadata": {
  "kernelspec": {
   "display_name": "Python 3 (ipykernel)",
   "language": "python",
   "name": "python3"
  },
  "language_info": {
   "codemirror_mode": {
    "name": "ipython",
    "version": 3
   },
   "file_extension": ".py",
   "mimetype": "text/x-python",
   "name": "python",
   "nbconvert_exporter": "python",
   "pygments_lexer": "ipython3",
   "version": "3.11.6"
  }
 },
 "nbformat": 4,
 "nbformat_minor": 5
}
